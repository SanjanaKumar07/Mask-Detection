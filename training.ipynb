{
 "cells": [
  {
   "cell_type": "code",
   "execution_count": 6,
   "metadata": {},
   "outputs": [
    {
     "name": "stdout",
     "output_type": "stream",
     "text": [
      "Found 1136 images belonging to 2 classes.\n",
      "Found 240 images belonging to 2 classes.\n",
      "Epoch 1/10\n",
      "114/114 [==============================] - 73s 635ms/step - loss: 0.6677 - acc: 0.6086 - val_loss: 0.2410 - val_acc: 0.9125\n",
      "INFO:tensorflow:Assets written to: model2-001.model\\assets\n",
      "Epoch 2/10\n",
      "114/114 [==============================] - 73s 637ms/step - loss: 0.3511 - acc: 0.8675 - val_loss: 0.0925 - val_acc: 0.9750\n",
      "INFO:tensorflow:Assets written to: model2-002.model\\assets\n",
      "Epoch 3/10\n",
      "114/114 [==============================] - 72s 630ms/step - loss: 0.2736 - acc: 0.9033 - val_loss: 0.1232 - val_acc: 0.9500\n",
      "Epoch 4/10\n",
      "114/114 [==============================] - 73s 638ms/step - loss: 0.2063 - acc: 0.9246 - val_loss: 0.0695 - val_acc: 0.9875\n",
      "INFO:tensorflow:Assets written to: model2-004.model\\assets\n",
      "Epoch 5/10\n",
      "114/114 [==============================] - 75s 659ms/step - loss: 0.1547 - acc: 0.9447 - val_loss: 0.0648 - val_acc: 0.9667\n",
      "INFO:tensorflow:Assets written to: model2-005.model\\assets\n",
      "Epoch 6/10\n",
      "114/114 [==============================] - 75s 659ms/step - loss: 0.1994 - acc: 0.9287 - val_loss: 0.0504 - val_acc: 0.9875\n",
      "INFO:tensorflow:Assets written to: model2-006.model\\assets\n",
      "Epoch 7/10\n",
      "114/114 [==============================] - 75s 655ms/step - loss: 0.1539 - acc: 0.9465 - val_loss: 0.0578 - val_acc: 0.9875\n",
      "Epoch 8/10\n",
      "114/114 [==============================] - 73s 640ms/step - loss: 0.1858 - acc: 0.9415 - val_loss: 0.1574 - val_acc: 0.9458\n",
      "Epoch 9/10\n",
      "114/114 [==============================] - 74s 647ms/step - loss: 0.2879 - acc: 0.9036 - val_loss: 0.0398 - val_acc: 0.9917\n",
      "INFO:tensorflow:Assets written to: model2-009.model\\assets\n",
      "Epoch 10/10\n",
      "114/114 [==============================] - 75s 659ms/step - loss: 0.1362 - acc: 0.9576 - val_loss: 0.0852 - val_acc: 0.9875\n"
     ]
    }
   ],
   "source": [
    "from keras.preprocessing.image import ImageDataGenerator\n",
    "import cv2\n",
    "from keras.models import Sequential\n",
    "from keras.layers import Conv2D, Input, Activation, MaxPooling2D, Flatten, Dense,Dropout\n",
    "from keras.models import Model, load_model\n",
    "from keras.callbacks import TensorBoard, ModelCheckpoint\n",
    "import numpy as np\n",
    "model =Sequential([\n",
    "    Conv2D(100, (3,3), activation='relu', input_shape=(150, 150, 3)),\n",
    "    MaxPooling2D(2,2),\n",
    "    \n",
    "    Conv2D(100, (3,3), activation='relu'),\n",
    "    MaxPooling2D(2,2),\n",
    "    \n",
    "    Flatten(),\n",
    "    Dropout(0.5),\n",
    "    Dense(50, activation='relu'),\n",
    "    Dense(2, activation='softmax')\n",
    "])\n",
    "model.compile(optimizer='adam', loss='binary_crossentropy', metrics=['acc'])\n",
    "\n",
    "TRAINING_DIR = 'training'\n",
    "train_datagen = ImageDataGenerator(rescale=1.0/255,\n",
    "                                   rotation_range=40,\n",
    "                                   width_shift_range=0.2,\n",
    "                                   height_shift_range=0.2,\n",
    "                                   shear_range=0.2,\n",
    "                                   zoom_range=0.2,\n",
    "                                   horizontal_flip=True,\n",
    "                                   fill_mode='nearest')\n",
    "\n",
    "train_generator = train_datagen.flow_from_directory(TRAINING_DIR, \n",
    "                                                    batch_size=10, \n",
    "                                                    target_size=(150, 150))\n",
    "VALIDATION_DIR = 'testing'\n",
    "validation_datagen = ImageDataGenerator(rescale=1.0/255)\n",
    "\n",
    "validation_generator = validation_datagen.flow_from_directory(VALIDATION_DIR, \n",
    "                                                         batch_size=10, \n",
    "                                                         target_size=(150, 150))\n",
    "checkpoint = ModelCheckpoint('model2-{epoch:03d}.model',monitor='val_loss',verbose=0,save_best_only=True,mode='auto')\n",
    "\n",
    "\n",
    "history = model.fit_generator(train_generator,\n",
    "                              epochs=10,\n",
    "                              validation_data=validation_generator,\n",
    "                              callbacks=[checkpoint])"
   ]
  },
  {
   "cell_type": "code",
   "execution_count": 7,
   "metadata": {},
   "outputs": [
    {
     "name": "stdout",
     "output_type": "stream",
     "text": [
      "Saved model to disk\n"
     ]
    }
   ],
   "source": [
    "model_json = model.to_json()\n",
    "with open(\"model.json\", \"w\") as json_file:\n",
    "    json_file.write(model_json)\n",
    "# serialize weights to HDF5\n",
    "model.save_weights(\"model.h5\")\n",
    "print(\"Saved model to disk\")"
   ]
  },
  {
   "cell_type": "code",
   "execution_count": null,
   "metadata": {},
   "outputs": [],
   "source": []
  }
 ],
 "metadata": {
  "kernelspec": {
   "display_name": "Python 3",
   "language": "python",
   "name": "python3"
  },
  "language_info": {
   "codemirror_mode": {
    "name": "ipython",
    "version": 3
   },
   "file_extension": ".py",
   "mimetype": "text/x-python",
   "name": "python",
   "nbconvert_exporter": "python",
   "pygments_lexer": "ipython3",
   "version": "3.7.7"
  }
 },
 "nbformat": 4,
 "nbformat_minor": 4
}
